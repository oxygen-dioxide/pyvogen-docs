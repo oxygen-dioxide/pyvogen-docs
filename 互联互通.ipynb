{
 "cells": [
  {
   "cell_type": "markdown",
   "source": [
    "# 互联互通\r\n",
    "## 剪贴板\r\n",
    "PyVogen支持剪贴板操作，你可以从Vogen编辑器复制到PyVogen，也可以从PyVogen复制到Vogen编辑器。\r\n",
    "\r\n",
    "注意：剪贴板操作目前仅支持本地python环境，不支持Google Colab等在线notebook。\r\n",
    "\r\n",
    "（顺便说一下，Vogen的剪贴板是纯文本的，所以你可以在Vogen编辑器中复制几个音符，通过qq微信发给好友，让ta粘贴到编辑器中。）"
   ],
   "metadata": {}
  },
  {
   "cell_type": "code",
   "execution_count": null,
   "source": [
    "#粘贴\r\n",
    "#先去Vogen编辑器复制一段工程再回来运行这段代码\r\n",
    "import vogen\r\n",
    "myfile=vogen.paste()\r\n",
    "myfile"
   ],
   "outputs": [],
   "metadata": {}
  },
  {
   "cell_type": "code",
   "execution_count": null,
   "source": [
    "#向上移动1格\r\n",
    "myfile.transpose(1)\r\n",
    "#复制\r\n",
    "myfile.copy()"
   ],
   "outputs": [],
   "metadata": {}
  },
  {
   "cell_type": "markdown",
   "source": [
    "## 导入其他文件格式\r\n",
    "使用loadfile函数，可导入ust,musicxml,mxl,mid文件"
   ],
   "metadata": {}
  },
  {
   "cell_type": "code",
   "execution_count": null,
   "source": [
    "vogen.loadfile(\"送你一枚小弹壳.ust\")"
   ],
   "outputs": [],
   "metadata": {}
  },
  {
   "cell_type": "markdown",
   "source": [
    "## 相关链接\r\n",
    "送你一枚小弹壳（作曲：刘青，作词：王晓岭，本家：[bilibili](https://www.bilibili.com/video/BV17x411h75X)）"
   ],
   "metadata": {}
  }
 ],
 "metadata": {
  "orig_nbformat": 4,
  "language_info": {
   "name": "python",
   "version": "3.9.7",
   "mimetype": "text/x-python",
   "codemirror_mode": {
    "name": "ipython",
    "version": 3
   },
   "pygments_lexer": "ipython3",
   "nbconvert_exporter": "python",
   "file_extension": ".py"
  },
  "kernelspec": {
   "name": "python3",
   "display_name": "Python 3.9.7 64-bit"
  },
  "interpreter": {
   "hash": "9e6fe232ec1802e04813a62eadbd4a033db6fcefdd78d84705bbb38e45fcef4a"
  }
 },
 "nbformat": 4,
 "nbformat_minor": 2
}