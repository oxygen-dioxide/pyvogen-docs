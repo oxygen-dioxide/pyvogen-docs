{
 "cells": [
  {
   "cell_type": "markdown",
   "source": [
    "# PyVogen\u9ad8\u7ea7\u5bf9\u8c61\u64cd\u4f5c"
   ],
   "metadata": {}
  },
  {
   "cell_type": "code",
   "execution_count": 1,
   "source": [
    "import vogen"
   ],
   "outputs": [],
   "metadata": {}
  },
  {
   "cell_type": "markdown",
   "source": [
    "## \u97f3\u7b26\u4e0e\u4e50\u53e5\u6392\u5e8f\r\n",
    "\u97f3\u7b26\u4e0e\u4e50\u53e5\u4e00\u822c\u4f1a\u6309\u7167\u65f6\u95f4\u6392\u5e8f\u3002\u7531\u8bfb\u53d6\u6587\u4ef6\u4ea7\u751f\u7684\u5bf9\u8c61\u662f\u6b63\u786e\u6392\u5e8f\u7684\u3002\u5982\u679c\u97f3\u7b26\u4e0e\u4e50\u53e5\u4e0d\u6309\u7167\u65f6\u95f4\u6392\u5e8f\uff0c\u5219\u53ef\u80fd\u4f1a\u5728\u5408\u6210\u3001\u5bfc\u51fa\u6587\u4ef6\u7b49\u64cd\u4f5c\u4e2d\u9020\u6210\u9519\u8bef\u3002\r\n",
    "\r\n",
    "\u672c\u5e93\u4e3a\u4e86\u6027\u80fd\uff0c\u4e0d\u4f1a\u5728\u8fdb\u884c\u8fd9\u4e9b\u64cd\u4f5c\u65f6\u81ea\u52a8\u68c0\u67e5\u987a\u5e8f\uff0c\u4f46\u63d0\u4f9b\u4e86`VogFile.sort`\u548c`VogUtt.sort`\u65b9\u6cd5\u7528\u6765\u6392\u5e8f\u3002"
   ],
   "metadata": {}
  },
  {
   "cell_type": "code",
   "execution_count": 2,
   "source": [
    "#\u4e00\u4e2a\u4e71\u5e8f\u7684\u5bf9\u8c61\r\n",
    "notes1=[\r\n",
    "    vogen.VogNote(pitch=60,on=480,dur=480),\r\n",
    "    vogen.VogNote(pitch=60,on=480*2,dur=480),\r\n",
    "    vogen.VogNote(pitch=69,on=480*6,dur=480),\r\n",
    "    vogen.VogNote(pitch=67,on=480*3,dur=480),\r\n",
    "    vogen.VogNote(pitch=67,on=480*4,dur=480),\r\n",
    "    vogen.VogNote(pitch=69,on=480*5,dur=480),\r\n",
    "    vogen.VogNote(pitch=67,on=480*7,dur=480),\r\n",
    "]\r\n",
    "utt1=vogen.VogUtt(romScheme=\"man\",notes=notes1)\r\n",
    "notes2=[\r\n",
    "    vogen.VogNote(pitch=65,on=480*9,dur=480),\r\n",
    "    vogen.VogNote(pitch=65,on=480*10,dur=480),\r\n",
    "    vogen.VogNote(pitch=64,on=480*12,dur=480),\r\n",
    "    vogen.VogNote(pitch=62,on=480*13,dur=480),\r\n",
    "    vogen.VogNote(pitch=62,on=480*14,dur=480),\r\n",
    "    vogen.VogNote(pitch=64,on=480*11,dur=480),\r\n",
    "    vogen.VogNote(pitch=60,on=480*15,dur=480),\r\n",
    "]\r\n",
    "utt2=vogen.VogUtt(singerId=\"Gloria\",romScheme=\"man\",notes=notes2)\r\n",
    "myfile=vogen.VogFile(utts=[utt2,utt1],bpm0=120.0,timeSig0=\"4/4\")"
   ],
   "outputs": [],
   "metadata": {}
  },
  {
   "cell_type": "code",
   "execution_count": 3,
   "source": [
    "#\u5408\u6210\u65f6\u5c06\u4f1a\u62a5\u9519\r\n",
    "myfile.play()"
   ],
   "outputs": [
    {
     "output_type": "stream",
     "name": "stderr",
     "text": [
      "  0%|          | 0/2 [00:00<?, ?it/s]\n"
     ]
    },
    {
     "output_type": "error",
     "ename": "RuntimeException",
     "evalue": "[ONNXRuntimeError] : 6 : RUNTIME_EXCEPTION : Non-zero status code returned while running Mul node. Name:'' Status Message: D:\\a\\_work\\1\\s\\onnxruntime\\core/providers/cpu/math/element_wise_ops.h:497 onnxruntime::BroadcastIterator::Init axis == 1 || axis == largest was false. Attempting to broadcast an axis by a dimension other than 1. 550 by 600\n",
     "traceback": [
      "\u001b[1;31m---------------------------------------------------------------------------\u001b[0m",
      "\u001b[1;31mRuntimeException\u001b[0m                          Traceback (most recent call last)",
      "\u001b[1;32m~\\AppData\\Local\\Temp/ipykernel_5680/2767150652.py\u001b[0m in \u001b[0;36m<module>\u001b[1;34m\u001b[0m\n\u001b[0;32m      1\u001b[0m \u001b[1;31m#\u5408\u6210\u65f6\u5c06\u4f1a\u62a5\u9519\u001b[0m\u001b[1;33m\u001b[0m\u001b[1;33m\u001b[0m\u001b[0m\n\u001b[1;32m----> 2\u001b[1;33m \u001b[0mmyfile\u001b[0m\u001b[1;33m.\u001b[0m\u001b[0mplay\u001b[0m\u001b[1;33m(\u001b[0m\u001b[1;33m)\u001b[0m\u001b[1;33m\u001b[0m\u001b[1;33m\u001b[0m\u001b[0m\n\u001b[0m",
      "\u001b[1;32mE:\\Python39\\lib\\vogen\\__init__.py\u001b[0m in \u001b[0;36mplay\u001b[1;34m(self)\u001b[0m\n\u001b[0;32m    446\u001b[0m         \"\"\"\n\u001b[0;32m    447\u001b[0m         \u001b[1;32mimport\u001b[0m \u001b[0mvogen\u001b[0m\u001b[1;33m.\u001b[0m\u001b[0msynth\u001b[0m\u001b[1;33m\u001b[0m\u001b[1;33m\u001b[0m\u001b[0m\n\u001b[1;32m--> 448\u001b[1;33m         \u001b[1;32mreturn\u001b[0m \u001b[0mvogen\u001b[0m\u001b[1;33m.\u001b[0m\u001b[0msynth\u001b[0m\u001b[1;33m.\u001b[0m\u001b[0mplay\u001b[0m\u001b[1;33m(\u001b[0m\u001b[0mself\u001b[0m\u001b[1;33m)\u001b[0m\u001b[1;33m\u001b[0m\u001b[1;33m\u001b[0m\u001b[0m\n\u001b[0m\u001b[0;32m    449\u001b[0m \u001b[1;33m\u001b[0m\u001b[0m\n\u001b[0;32m    450\u001b[0m     \u001b[1;32mdef\u001b[0m \u001b[0mseparate_by_singer\u001b[0m\u001b[1;33m(\u001b[0m\u001b[0mself\u001b[0m\u001b[1;33m)\u001b[0m\u001b[1;33m->\u001b[0m\u001b[0mDict\u001b[0m\u001b[1;33m[\u001b[0m\u001b[0mstr\u001b[0m\u001b[1;33m,\u001b[0m\u001b[0mAny\u001b[0m\u001b[1;33m]\u001b[0m\u001b[1;33m:\u001b[0m\u001b[1;33m\u001b[0m\u001b[1;33m\u001b[0m\u001b[0m\n",
      "\u001b[1;32mE:\\Python39\\lib\\vogen\\synth\\__init__.py\u001b[0m in \u001b[0;36mplay\u001b[1;34m(file)\u001b[0m\n\u001b[0;32m    118\u001b[0m     \u001b[0m\u4ece\u5de5\u7a0b\u5bf9\u8c61\u5408\u6210\u97f3\u9891\u5e76\u64ad\u653e\u001b[0m\u001b[1;33m\u001b[0m\u001b[1;33m\u001b[0m\u001b[0m\n\u001b[0;32m    119\u001b[0m     \"\"\"\n\u001b[1;32m--> 120\u001b[1;33m     \u001b[0ma\u001b[0m\u001b[1;33m=\u001b[0m\u001b[0msynth\u001b[0m\u001b[1;33m(\u001b[0m\u001b[0mfile\u001b[0m\u001b[1;33m)\u001b[0m\u001b[1;33m\u001b[0m\u001b[1;33m\u001b[0m\u001b[0m\n\u001b[0m\u001b[0;32m    121\u001b[0m     \u001b[1;32mif\u001b[0m\u001b[1;33m(\u001b[0m\u001b[0mis_jupyter_notebook\u001b[0m\u001b[1;33m(\u001b[0m\u001b[1;33m)\u001b[0m\u001b[1;33m)\u001b[0m\u001b[1;33m:\u001b[0m\u001b[1;33m\u001b[0m\u001b[1;33m\u001b[0m\u001b[0m\n\u001b[0;32m    122\u001b[0m         \u001b[1;32mfrom\u001b[0m \u001b[0mIPython\u001b[0m\u001b[1;33m.\u001b[0m\u001b[0mdisplay\u001b[0m \u001b[1;32mimport\u001b[0m \u001b[0mAudio\u001b[0m\u001b[1;33m\u001b[0m\u001b[1;33m\u001b[0m\u001b[0m\n",
      "\u001b[1;32mE:\\Python39\\lib\\vogen\\synth\\__init__.py\u001b[0m in \u001b[0;36msynth\u001b[1;34m(file)\u001b[0m\n\u001b[0;32m     65\u001b[0m         \u001b[1;31m#print(\"\\r\u6b63\u5728\u5408\u6210\u4e50\u53e5{}/{}\".format(i+1,nutt)+\"#\"*int(20*i/nutt)+\"-\"*(20-int(20*i/nutt)))\u001b[0m\u001b[1;33m\u001b[0m\u001b[1;33m\u001b[0m\u001b[0m\n\u001b[0;32m     66\u001b[0m         \u001b[1;31m#\u5408\u6210\u001b[0m\u001b[1;33m\u001b[0m\u001b[1;33m\u001b[0m\u001b[0m\n\u001b[1;32m---> 67\u001b[1;33m         \u001b[0muttwave\u001b[0m\u001b[1;33m=\u001b[0m\u001b[0msynthutt\u001b[0m\u001b[1;33m(\u001b[0m\u001b[0mutt\u001b[0m\u001b[1;33m,\u001b[0m\u001b[0mtempo\u001b[0m\u001b[1;33m)\u001b[0m\u001b[1;33m\u001b[0m\u001b[1;33m\u001b[0m\u001b[0m\n\u001b[0m\u001b[0;32m     68\u001b[0m         \u001b[1;31m#\u5c06\u5408\u6210\u51fa\u7684\u97f3\u9891\u52a0\u5230\u97f3\u8f68\u4e0a\u001b[0m\u001b[1;33m\u001b[0m\u001b[1;33m\u001b[0m\u001b[0m\n\u001b[0;32m     69\u001b[0m         \u001b[0muttoffset\u001b[0m\u001b[1;33m=\u001b[0m\u001b[0mint\u001b[0m\u001b[1;33m(\u001b[0m\u001b[0mparams\u001b[0m\u001b[1;33m.\u001b[0m\u001b[0mfs\u001b[0m\u001b[1;33m*\u001b[0m\u001b[1;33m(\u001b[0m\u001b[0mutt\u001b[0m\u001b[1;33m.\u001b[0m\u001b[0mnotes\u001b[0m\u001b[1;33m[\u001b[0m\u001b[1;36m0\u001b[0m\u001b[1;33m]\u001b[0m\u001b[1;33m.\u001b[0m\u001b[0mon\u001b[0m\u001b[1;33m/\u001b[0m\u001b[1;33m(\u001b[0m\u001b[1;36m8\u001b[0m\u001b[1;33m*\u001b[0m\u001b[0mtempo\u001b[0m\u001b[1;33m)\u001b[0m\u001b[1;33m-\u001b[0m\u001b[1;36m0.5\u001b[0m\u001b[1;33m)\u001b[0m\u001b[1;33m)\u001b[0m\u001b[1;33m\u001b[0m\u001b[1;33m\u001b[0m\u001b[0m\n",
      "\u001b[1;32mE:\\Python39\\lib\\vogen\\synth\\__init__.py\u001b[0m in \u001b[0;36msynthutt\u001b[1;34m(utt, tempo)\u001b[0m\n\u001b[0;32m     39\u001b[0m     \u001b[0mtchars\u001b[0m\u001b[1;33m.\u001b[0m\u001b[0mappend\u001b[0m\u001b[1;33m(\u001b[0m\u001b[0mtimetable\u001b[0m\u001b[1;33m.\u001b[0m\u001b[0mTChar\u001b[0m\u001b[1;33m(\u001b[0m\u001b[1;33m)\u001b[0m\u001b[1;33m)\u001b[0m\u001b[1;33m\u001b[0m\u001b[1;33m\u001b[0m\u001b[0m\n\u001b[0;32m     40\u001b[0m     \u001b[0mtchars\u001b[0m\u001b[1;33m=\u001b[0m\u001b[0mprosody\u001b[0m\u001b[1;33m.\u001b[0m\u001b[0mrun\u001b[0m\u001b[1;33m(\u001b[0m\u001b[0mutt\u001b[0m\u001b[1;33m.\u001b[0m\u001b[0mromScheme\u001b[0m\u001b[1;33m,\u001b[0m\u001b[0mtchars\u001b[0m\u001b[1;33m[\u001b[0m\u001b[1;33m-\u001b[0m\u001b[1;36m2\u001b[0m\u001b[1;33m]\u001b[0m\u001b[1;33m.\u001b[0m\u001b[0mnotes\u001b[0m\u001b[1;33m[\u001b[0m\u001b[1;33m-\u001b[0m\u001b[1;36m1\u001b[0m\u001b[1;33m]\u001b[0m\u001b[1;33m.\u001b[0m\u001b[0moff\u001b[0m\u001b[1;33m+\u001b[0m\u001b[1;36m50\u001b[0m\u001b[1;33m,\u001b[0m\u001b[0mtchars\u001b[0m\u001b[1;33m)\u001b[0m\u001b[1;33m\u001b[0m\u001b[1;33m\u001b[0m\u001b[0m\n\u001b[1;32m---> 41\u001b[1;33m     \u001b[0mf0array\u001b[0m\u001b[1;33m=\u001b[0m\u001b[0mf0\u001b[0m\u001b[1;33m.\u001b[0m\u001b[0mrun\u001b[0m\u001b[1;33m(\u001b[0m\u001b[0mutt\u001b[0m\u001b[1;33m.\u001b[0m\u001b[0mromScheme\u001b[0m\u001b[1;33m,\u001b[0m\u001b[0mtchars\u001b[0m\u001b[1;33m)\u001b[0m\u001b[1;31m#\u8fd0\u884c\u57fa\u9891\u6a21\u578b\u001b[0m\u001b[1;33m\u001b[0m\u001b[1;33m\u001b[0m\u001b[0m\n\u001b[0m\u001b[0;32m     42\u001b[0m     \u001b[0mmgc\u001b[0m\u001b[1;33m,\u001b[0m\u001b[0mbap\u001b[0m\u001b[1;33m=\u001b[0m\u001b[0macoustics\u001b[0m\u001b[1;33m.\u001b[0m\u001b[0mrun\u001b[0m\u001b[1;33m(\u001b[0m\u001b[0mutt\u001b[0m\u001b[1;33m.\u001b[0m\u001b[0mromScheme\u001b[0m\u001b[1;33m,\u001b[0m\u001b[0mutt\u001b[0m\u001b[1;33m.\u001b[0m\u001b[0msingerId\u001b[0m\u001b[1;33m,\u001b[0m\u001b[0mf0array\u001b[0m\u001b[1;33m,\u001b[0m\u001b[0mtchars\u001b[0m\u001b[1;33m)\u001b[0m\u001b[1;31m#\u8fd0\u884c\u5408\u6210\u6a21\u578b\u001b[0m\u001b[1;33m\u001b[0m\u001b[1;33m\u001b[0m\u001b[0m\n\u001b[0;32m     43\u001b[0m     \u001b[0msp\u001b[0m\u001b[1;33m=\u001b[0m\u001b[0mpyworld\u001b[0m\u001b[1;33m.\u001b[0m\u001b[0mdecode_spectral_envelope\u001b[0m\u001b[1;33m(\u001b[0m\u001b[0mmgc\u001b[0m\u001b[1;33m[\u001b[0m\u001b[1;36m0\u001b[0m\u001b[1;33m]\u001b[0m\u001b[1;33m.\u001b[0m\u001b[0mastype\u001b[0m\u001b[1;33m(\u001b[0m\u001b[0mnumpy\u001b[0m\u001b[1;33m.\u001b[0m\u001b[0mfloat64\u001b[0m\u001b[1;33m)\u001b[0m\u001b[1;33m,\u001b[0m\u001b[0mparams\u001b[0m\u001b[1;33m.\u001b[0m\u001b[0mfs\u001b[0m\u001b[1;33m,\u001b[0m\u001b[0mparams\u001b[0m\u001b[1;33m.\u001b[0m\u001b[0mworldFftSize\u001b[0m\u001b[1;33m)\u001b[0m\u001b[1;33m\u001b[0m\u001b[1;33m\u001b[0m\u001b[0m\n",
      "\u001b[1;32mE:\\Python39\\lib\\vogen\\synth\\f0.py\u001b[0m in \u001b[0;36mrun\u001b[1;34m(romScheme, chars)\u001b[0m\n\u001b[0;32m     45\u001b[0m     \u001b[1;31m#\u8fd0\u884c\u6a21\u578b\u001b[0m\u001b[1;33m\u001b[0m\u001b[1;33m\u001b[0m\u001b[0m\n\u001b[0;32m     46\u001b[0m     \u001b[0mmodel\u001b[0m\u001b[1;33m=\u001b[0m\u001b[0mmodels\u001b[0m\u001b[1;33m[\u001b[0m\u001b[0mromScheme\u001b[0m\u001b[1;33m]\u001b[0m\u001b[1;33m\u001b[0m\u001b[1;33m\u001b[0m\u001b[0m\n\u001b[1;32m---> 47\u001b[1;33m     \u001b[0mf0\u001b[0m\u001b[1;33m=\u001b[0m\u001b[0mmodel\u001b[0m\u001b[1;33m.\u001b[0m\u001b[0mrun\u001b[0m\u001b[1;33m(\u001b[0m\u001b[1;33m[\u001b[0m\u001b[0mmodel\u001b[0m\u001b[1;33m.\u001b[0m\u001b[0mget_outputs\u001b[0m\u001b[1;33m(\u001b[0m\u001b[1;33m)\u001b[0m\u001b[1;33m[\u001b[0m\u001b[1;36m0\u001b[0m\u001b[1;33m]\u001b[0m\u001b[1;33m.\u001b[0m\u001b[0mname\u001b[0m\u001b[1;33m]\u001b[0m\u001b[1;33m,\u001b[0m\u001b[0mxs\u001b[0m\u001b[1;33m)\u001b[0m\u001b[1;33m[\u001b[0m\u001b[1;36m0\u001b[0m\u001b[1;33m]\u001b[0m\u001b[1;33m\u001b[0m\u001b[1;33m\u001b[0m\u001b[0m\n\u001b[0m\u001b[0;32m     48\u001b[0m     \u001b[1;32mreturn\u001b[0m \u001b[0mf0\u001b[0m\u001b[1;33m\u001b[0m\u001b[1;33m\u001b[0m\u001b[0m\n\u001b[0;32m     49\u001b[0m \u001b[1;33m\u001b[0m\u001b[0m\n",
      "\u001b[1;32mE:\\Python39\\lib\\site-packages\\onnxruntime\\capi\\onnxruntime_inference_collection.py\u001b[0m in \u001b[0;36mrun\u001b[1;34m(self, output_names, input_feed, run_options)\u001b[0m\n\u001b[0;32m    186\u001b[0m             \u001b[0moutput_names\u001b[0m \u001b[1;33m=\u001b[0m \u001b[1;33m[\u001b[0m\u001b[0moutput\u001b[0m\u001b[1;33m.\u001b[0m\u001b[0mname\u001b[0m \u001b[1;32mfor\u001b[0m \u001b[0moutput\u001b[0m \u001b[1;32min\u001b[0m \u001b[0mself\u001b[0m\u001b[1;33m.\u001b[0m\u001b[0m_outputs_meta\u001b[0m\u001b[1;33m]\u001b[0m\u001b[1;33m\u001b[0m\u001b[1;33m\u001b[0m\u001b[0m\n\u001b[0;32m    187\u001b[0m         \u001b[1;32mtry\u001b[0m\u001b[1;33m:\u001b[0m\u001b[1;33m\u001b[0m\u001b[1;33m\u001b[0m\u001b[0m\n\u001b[1;32m--> 188\u001b[1;33m             \u001b[1;32mreturn\u001b[0m \u001b[0mself\u001b[0m\u001b[1;33m.\u001b[0m\u001b[0m_sess\u001b[0m\u001b[1;33m.\u001b[0m\u001b[0mrun\u001b[0m\u001b[1;33m(\u001b[0m\u001b[0moutput_names\u001b[0m\u001b[1;33m,\u001b[0m \u001b[0minput_feed\u001b[0m\u001b[1;33m,\u001b[0m \u001b[0mrun_options\u001b[0m\u001b[1;33m)\u001b[0m\u001b[1;33m\u001b[0m\u001b[1;33m\u001b[0m\u001b[0m\n\u001b[0m\u001b[0;32m    189\u001b[0m         \u001b[1;32mexcept\u001b[0m \u001b[0mC\u001b[0m\u001b[1;33m.\u001b[0m\u001b[0mEPFail\u001b[0m \u001b[1;32mas\u001b[0m \u001b[0merr\u001b[0m\u001b[1;33m:\u001b[0m\u001b[1;33m\u001b[0m\u001b[1;33m\u001b[0m\u001b[0m\n\u001b[0;32m    190\u001b[0m             \u001b[1;32mif\u001b[0m \u001b[0mself\u001b[0m\u001b[1;33m.\u001b[0m\u001b[0m_enable_fallback\u001b[0m\u001b[1;33m:\u001b[0m\u001b[1;33m\u001b[0m\u001b[1;33m\u001b[0m\u001b[0m\n",
      "\u001b[1;31mRuntimeException\u001b[0m: [ONNXRuntimeError] : 6 : RUNTIME_EXCEPTION : Non-zero status code returned while running Mul node. Name:'' Status Message: D:\\a\\_work\\1\\s\\onnxruntime\\core/providers/cpu/math/element_wise_ops.h:497 onnxruntime::BroadcastIterator::Init axis == 1 || axis == largest was false. Attempting to broadcast an axis by a dimension other than 1. 550 by 600\n"
     ]
    }
   ],
   "metadata": {}
  },
  {
   "cell_type": "code",
   "execution_count": 4,
   "source": [
    "#\u6392\u5e8f\r\n",
    "myfile.sort()\r\n",
    "myfile"
   ],
   "outputs": [
    {
     "output_type": "execute_result",
     "data": {
      "text/plain": [
       "VogFile 4/4 120.0\n",
       " VogUtt Gloria man \n",
       "  VogNote 60 [a] 480 480\n",
       "  VogNote 60 [a] 960 480\n",
       "  VogNote 67 [a] 1440 480\n",
       "  VogNote 67 [a] 1920 480\n",
       "  VogNote 69 [a] 2400 480\n",
       "  VogNote 69 [a] 2880 480\n",
       "  VogNote 67 [a] 3360 480\n",
       " VogUtt Gloria man \n",
       "  VogNote 65 [a] 4320 480\n",
       "  VogNote 65 [a] 4800 480\n",
       "  VogNote 64 [a] 5280 480\n",
       "  VogNote 64 [a] 5760 480\n",
       "  VogNote 62 [a] 6240 480\n",
       "  VogNote 62 [a] 6720 480\n",
       "  VogNote 60 [a] 7200 480"
      ]
     },
     "metadata": {},
     "execution_count": 4
    }
   ],
   "metadata": {}
  },
  {
   "cell_type": "code",
   "execution_count": 5,
   "source": [
    "myfile.play()"
   ],
   "outputs": [
    {
     "output_type": "stream",
     "name": "stderr",
     "text": [
      "100%|\u2588\u2588\u2588\u2588\u2588\u2588\u2588\u2588\u2588\u2588| 2/2 [00:01<00:00,  1.78it/s]\n"
     ]
    }
   ],
   "metadata": {}
  },
  {
   "cell_type": "markdown",
   "source": [
    "## \u6b4c\u8bcd\u76f8\u5173\u64cd\u4f5c\r\n",
    "### \u704c\u8bcd\r\n",
    "\u4f7f\u7528`VogFile.setlyric`\u704c\u5165\u6b4c\u8bcd\u5e76\u81ea\u52a8\u83b7\u53d6\u62fc\u97f3\u3002"
   ],
   "metadata": {}
  },
  {
   "cell_type": "code",
   "execution_count": 6,
   "source": [
    "#setlyric\u652f\u6301\u5b57\u7b26\u4e32\u5217\u8868\u8f93\u5165\u3002\u5217\u8868\u4e2d\u7684\u6bcf\u4e2a\u5b57\u7b26\u4e32\u5206\u914d\u7ed9\u4e00\u4e2a\u97f3\u7b26\r\n",
    "myfile.setlyric(['yi','shan','yi','shan','liang','jing','jing','man','tian','dou', 'shi','xiao', 'xing','xing'])\r\n",
    "myfile"
   ],
   "outputs": [
    {
     "output_type": "execute_result",
     "data": {
      "text/plain": [
       "VogFile 4/4 120.0\n",
       " VogUtt Gloria man \n",
       "  VogNote 60 yi[yi] 480 480\n",
       "  VogNote 60 shan[shan] 960 480\n",
       "  VogNote 67 yi[yi] 1440 480\n",
       "  VogNote 67 shan[shan] 1920 480\n",
       "  VogNote 69 liang[liang] 2400 480\n",
       "  VogNote 69 jing[jing] 2880 480\n",
       "  VogNote 67 jing[jing] 3360 480\n",
       " VogUtt Gloria man \n",
       "  VogNote 65 man[man] 4320 480\n",
       "  VogNote 65 tian[tian] 4800 480\n",
       "  VogNote 64 dou[dou] 5280 480\n",
       "  VogNote 64 shi[shi] 5760 480\n",
       "  VogNote 62 xiao[xiao] 6240 480\n",
       "  VogNote 62 xing[xing] 6720 480\n",
       "  VogNote 60 xing[xing] 7200 480"
      ]
     },
     "metadata": {},
     "execution_count": 6
    }
   ],
   "metadata": {}
  },
  {
   "cell_type": "code",
   "execution_count": 7,
   "source": [
    "#setlyric\u4e5f\u652f\u6301\u5b57\u7b26\u4e32\u8f93\u5165\u3002\u5b57\u7b26\u4e32\u4e2d\u7684\u6bcf\u4e2a\u5b57\u7b26\u5206\u914d\u7ed9\u4e00\u4e2a\u97f3\u7b26\r\n",
    "myfile.setlyric(\"\u4e00\u95ea\u4e00\u95ea\u4eae\u6676\u6676\u6ee1\u5929\u90fd\u662f\u5c0f\u661f\u661f\")"
   ],
   "outputs": [
    {
     "output_type": "execute_result",
     "data": {
      "text/plain": [
       "VogFile 4/4 120.0\n",
       " VogUtt Gloria man \n",
       "  VogNote 60 \u4e00[yi] 480 480\n",
       "  VogNote 60 \u95ea[shan] 960 480\n",
       "  VogNote 67 \u4e00[yi] 1440 480\n",
       "  VogNote 67 \u95ea[shan] 1920 480\n",
       "  VogNote 69 \u4eae[liang] 2400 480\n",
       "  VogNote 69 \u6676[jing] 2880 480\n",
       "  VogNote 67 \u6676[jing] 3360 480\n",
       " VogUtt Gloria man \n",
       "  VogNote 65 \u6ee1[man] 4320 480\n",
       "  VogNote 65 \u5929[tian] 4800 480\n",
       "  VogNote 64 \u90fd[dou] 5280 480\n",
       "  VogNote 64 \u662f[shi] 5760 480\n",
       "  VogNote 62 \u5c0f[xiao] 6240 480\n",
       "  VogNote 62 \u661f[xing] 6720 480\n",
       "  VogNote 60 \u661f[xing] 7200 480"
      ]
     },
     "metadata": {},
     "execution_count": 7
    }
   ],
   "metadata": {}
  },
  {
   "cell_type": "markdown",
   "source": [
    "## \u6279\u91cf\u64cd\u4f5c\r\n",
    "### \u79fb\u8c03\r\n",
    "\u4f7f\u7528`VogFile.transpose`\u79fb\u8c03"
   ],
   "metadata": {}
  },
  {
   "cell_type": "code",
   "execution_count": 8,
   "source": [
    "## \u5411\u4e0b\u79fb\u52a84\u4e2a\u534a\u97f3\r\n",
    "myfile.transpose(-4)\r\n",
    "myfile"
   ],
   "outputs": [
    {
     "output_type": "execute_result",
     "data": {
      "text/plain": [
       "VogFile 4/4 120.0\n",
       " VogUtt Gloria man \n",
       "  VogNote 56 \u4e00[yi] 480 480\n",
       "  VogNote 56 \u95ea[shan] 960 480\n",
       "  VogNote 63 \u4e00[yi] 1440 480\n",
       "  VogNote 63 \u95ea[shan] 1920 480\n",
       "  VogNote 65 \u4eae[liang] 2400 480\n",
       "  VogNote 65 \u6676[jing] 2880 480\n",
       "  VogNote 63 \u6676[jing] 3360 480\n",
       " VogUtt Gloria man \n",
       "  VogNote 61 \u6ee1[man] 4320 480\n",
       "  VogNote 61 \u5929[tian] 4800 480\n",
       "  VogNote 60 \u90fd[dou] 5280 480\n",
       "  VogNote 60 \u662f[shi] 5760 480\n",
       "  VogNote 58 \u5c0f[xiao] 6240 480\n",
       "  VogNote 58 \u661f[xing] 6720 480\n",
       "  VogNote 56 \u661f[xing] 7200 480"
      ]
     },
     "metadata": {},
     "execution_count": 8
    }
   ],
   "metadata": {}
  },
  {
   "cell_type": "markdown",
   "source": [
    "### \u8bbe\u7f6e\u6b4c\u624b\u4e0e\u8bed\u79cd\r\n",
    "\u4f7f\u7528`setSinger`\u8bbe\u7f6e\u6b4c\u624b"
   ],
   "metadata": {}
  },
  {
   "cell_type": "code",
   "execution_count": 9,
   "source": [
    "myfile.setSinger(\"Doaz\")"
   ],
   "outputs": [
    {
     "output_type": "execute_result",
     "data": {
      "text/plain": [
       "VogFile 4/4 120.0\n",
       " VogUtt Doaz man \n",
       "  VogNote 56 \u4e00[yi] 480 480\n",
       "  VogNote 56 \u95ea[shan] 960 480\n",
       "  VogNote 63 \u4e00[yi] 1440 480\n",
       "  VogNote 63 \u95ea[shan] 1920 480\n",
       "  VogNote 65 \u4eae[liang] 2400 480\n",
       "  VogNote 65 \u6676[jing] 2880 480\n",
       "  VogNote 63 \u6676[jing] 3360 480\n",
       " VogUtt Doaz man \n",
       "  VogNote 61 \u6ee1[man] 4320 480\n",
       "  VogNote 61 \u5929[tian] 4800 480\n",
       "  VogNote 60 \u90fd[dou] 5280 480\n",
       "  VogNote 60 \u662f[shi] 5760 480\n",
       "  VogNote 58 \u5c0f[xiao] 6240 480\n",
       "  VogNote 58 \u661f[xing] 6720 480\n",
       "  VogNote 56 \u661f[xing] 7200 480"
      ]
     },
     "metadata": {},
     "execution_count": 9
    }
   ],
   "metadata": {}
  },
  {
   "cell_type": "markdown",
   "source": [
    "\u4f7f\u7528`setRomScheme`\u8bbe\u7f6e\u8bed\u79cd\u5e76\u91cd\u65b0\u83b7\u53d6\u62fc\u97f3\u3002"
   ],
   "metadata": {}
  },
  {
   "cell_type": "code",
   "execution_count": 10,
   "source": [
    "myfile.setRomScheme(\"yue\")"
   ],
   "outputs": [
    {
     "output_type": "execute_result",
     "data": {
      "text/plain": [
       "VogFile 4/4 120.0\n",
       " VogUtt Doaz yue \n",
       "  VogNote 56 \u4e00[jat] 480 480\n",
       "  VogNote 56 \u95ea[sim] 960 480\n",
       "  VogNote 63 \u4e00[jat] 1440 480\n",
       "  VogNote 63 \u95ea[sim] 1920 480\n",
       "  VogNote 65 \u4eae[loeng] 2400 480\n",
       "  VogNote 65 \u6676[zing] 2880 480\n",
       "  VogNote 63 \u6676[zing] 3360 480\n",
       " VogUtt Doaz yue \n",
       "  VogNote 61 \u6ee1[mun] 4320 480\n",
       "  VogNote 61 \u5929[tin] 4800 480\n",
       "  VogNote 60 \u90fd[dou] 5280 480\n",
       "  VogNote 60 \u662f[si] 5760 480\n",
       "  VogNote 58 \u5c0f[siu] 6240 480\n",
       "  VogNote 58 \u661f[sing] 6720 480\n",
       "  VogNote 56 \u661f[sing] 7200 480"
      ]
     },
     "metadata": {},
     "execution_count": 10
    }
   ],
   "metadata": {}
  },
  {
   "cell_type": "markdown",
   "source": [
    "## \u97f3\u7b26\u8fed\u4ee3\u5668\r\n",
    "\u5982\u679c\u9700\u8981\u5bf9\u5de5\u7a0b\u4e2d\u7684\u6240\u6709\u97f3\u7b26\u5b9e\u65bd\uff0c\u53ef\u4ee5\u4f7f\u7528`VogFile.notes()`\u8fed\u4ee3\u5668"
   ],
   "metadata": {}
  },
  {
   "cell_type": "code",
   "execution_count": 11,
   "source": [
    "#\u4fdd\u6301tempo\u4e0d\u53d8\uff0c\u5c06\u5de5\u7a0b\u52a0\u901f\u4e00\u500d\r\n",
    "for note in myfile.notes():\r\n",
    "    note.on//=2\r\n",
    "    note.dur//=2\r\n",
    "myfile"
   ],
   "outputs": [
    {
     "output_type": "execute_result",
     "data": {
      "text/plain": [
       "VogFile 4/4 120.0\n",
       " VogUtt Doaz yue \n",
       "  VogNote 56 \u4e00[jat] 240 240\n",
       "  VogNote 56 \u95ea[sim] 480 240\n",
       "  VogNote 63 \u4e00[jat] 720 240\n",
       "  VogNote 63 \u95ea[sim] 960 240\n",
       "  VogNote 65 \u4eae[loeng] 1200 240\n",
       "  VogNote 65 \u6676[zing] 1440 240\n",
       "  VogNote 63 \u6676[zing] 1680 240\n",
       " VogUtt Doaz yue \n",
       "  VogNote 61 \u6ee1[mun] 2160 240\n",
       "  VogNote 61 \u5929[tin] 2400 240\n",
       "  VogNote 60 \u90fd[dou] 2640 240\n",
       "  VogNote 60 \u662f[si] 2880 240\n",
       "  VogNote 58 \u5c0f[siu] 3120 240\n",
       "  VogNote 58 \u661f[sing] 3360 240\n",
       "  VogNote 56 \u661f[sing] 3600 240"
      ]
     },
     "metadata": {},
     "execution_count": 11
    }
   ],
   "metadata": {}
  }
 ],
 "metadata": {
  "orig_nbformat": 4,
  "language_info": {
   "name": "python",
   "version": "3.9.7",
   "mimetype": "text/x-python",
   "codemirror_mode": {
    "name": "ipython",
    "version": 3
   },
   "pygments_lexer": "ipython3",
   "nbconvert_exporter": "python",
   "file_extension": ".py"
  },
  "kernelspec": {
   "name": "python3",
   "display_name": "Python 3.9.7 64-bit"
  },
  "interpreter": {
   "hash": "9e6fe232ec1802e04813a62eadbd4a033db6fcefdd78d84705bbb38e45fcef4a"
  }
 },
 "nbformat": 4,
 "nbformat_minor": 2
}