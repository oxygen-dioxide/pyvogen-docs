{
 "cells": [
  {
   "cell_type": "markdown",
   "source": [
    "# PyVogen高级对象操作"
   ],
   "metadata": {}
  },
  {
   "cell_type": "code",
   "execution_count": 1,
   "source": [
    "import vogen"
   ],
   "outputs": [],
   "metadata": {}
  },
  {
   "cell_type": "markdown",
   "source": [
    "## 音符与乐句排序\r\n",
    "音符与乐句一般会按照时间排序。由读取文件产生的对象是正确排序的。如果音符与乐句不按照时间排序，则可能会在合成、导出文件等操作中造成错误。\r\n",
    "\r\n",
    "本库为了性能，不会在进行这些操作时自动检查顺序，但提供了`VogFile.sort`和`VogUtt.sort`方法用来排序。"
   ],
   "metadata": {}
  },
  {
   "cell_type": "code",
   "execution_count": 2,
   "source": [
    "#一个乱序的对象\r\n",
    "notes1=[\r\n",
    "    vogen.VogNote(pitch=60,on=480,dur=480),\r\n",
    "    vogen.VogNote(pitch=60,on=480*2,dur=480),\r\n",
    "    vogen.VogNote(pitch=69,on=480*6,dur=480),\r\n",
    "    vogen.VogNote(pitch=67,on=480*3,dur=480),\r\n",
    "    vogen.VogNote(pitch=67,on=480*4,dur=480),\r\n",
    "    vogen.VogNote(pitch=69,on=480*5,dur=480),\r\n",
    "    vogen.VogNote(pitch=67,on=480*7,dur=480),\r\n",
    "]\r\n",
    "utt1=vogen.VogUtt(romScheme=\"man\",notes=notes1)\r\n",
    "notes2=[\r\n",
    "    vogen.VogNote(pitch=65,on=480*9,dur=480),\r\n",
    "    vogen.VogNote(pitch=65,on=480*10,dur=480),\r\n",
    "    vogen.VogNote(pitch=64,on=480*12,dur=480),\r\n",
    "    vogen.VogNote(pitch=62,on=480*13,dur=480),\r\n",
    "    vogen.VogNote(pitch=62,on=480*14,dur=480),\r\n",
    "    vogen.VogNote(pitch=64,on=480*11,dur=480),\r\n",
    "    vogen.VogNote(pitch=60,on=480*15,dur=480),\r\n",
    "]\r\n",
    "utt2=vogen.VogUtt(singerId=\"Gloria\",romScheme=\"man\",notes=notes2)\r\n",
    "myfile=vogen.VogFile(utts=[utt2,utt1],bpm0=120.0,timeSig0=\"4/4\")"
   ],
   "outputs": [],
   "metadata": {}
  },
  {
   "cell_type": "code",
   "execution_count": 3,
   "source": [
    "#合成时将会报错\r\n",
    "myfile.play()"
   ],
   "outputs": [
    {
     "output_type": "stream",
     "name": "stderr",
     "text": [
      "  0%|          | 0/2 [00:00<?, ?it/s]\n"
     ]
    },
    {
     "output_type": "error",
     "ename": "RuntimeException",
     "evalue": "[ONNXRuntimeError] : 6 : RUNTIME_EXCEPTION : Non-zero status code returned while running Mul node. Name:'' Status Message: D:\\a\\_work\\1\\s\\onnxruntime\\core/providers/cpu/math/element_wise_ops.h:497 onnxruntime::BroadcastIterator::Init axis == 1 || axis == largest was false. Attempting to broadcast an axis by a dimension other than 1. 550 by 600\n",
     "traceback": [
      "\u001b[1;31m---------------------------------------------------------------------------\u001b[0m",
      "\u001b[1;31mRuntimeException\u001b[0m                          Traceback (most recent call last)",
      "\u001b[1;32m~\\AppData\\Local\\Temp/ipykernel_5680/2767150652.py\u001b[0m in \u001b[0;36m<module>\u001b[1;34m\u001b[0m\n\u001b[0;32m      1\u001b[0m \u001b[1;31m#合成时将会报错\u001b[0m\u001b[1;33m\u001b[0m\u001b[1;33m\u001b[0m\u001b[0m\n\u001b[1;32m----> 2\u001b[1;33m \u001b[0mmyfile\u001b[0m\u001b[1;33m.\u001b[0m\u001b[0mplay\u001b[0m\u001b[1;33m(\u001b[0m\u001b[1;33m)\u001b[0m\u001b[1;33m\u001b[0m\u001b[1;33m\u001b[0m\u001b[0m\n\u001b[0m",
      "\u001b[1;32mE:\\Python39\\lib\\vogen\\__init__.py\u001b[0m in \u001b[0;36mplay\u001b[1;34m(self)\u001b[0m\n\u001b[0;32m    446\u001b[0m         \"\"\"\n\u001b[0;32m    447\u001b[0m         \u001b[1;32mimport\u001b[0m \u001b[0mvogen\u001b[0m\u001b[1;33m.\u001b[0m\u001b[0msynth\u001b[0m\u001b[1;33m\u001b[0m\u001b[1;33m\u001b[0m\u001b[0m\n\u001b[1;32m--> 448\u001b[1;33m         \u001b[1;32mreturn\u001b[0m \u001b[0mvogen\u001b[0m\u001b[1;33m.\u001b[0m\u001b[0msynth\u001b[0m\u001b[1;33m.\u001b[0m\u001b[0mplay\u001b[0m\u001b[1;33m(\u001b[0m\u001b[0mself\u001b[0m\u001b[1;33m)\u001b[0m\u001b[1;33m\u001b[0m\u001b[1;33m\u001b[0m\u001b[0m\n\u001b[0m\u001b[0;32m    449\u001b[0m \u001b[1;33m\u001b[0m\u001b[0m\n\u001b[0;32m    450\u001b[0m     \u001b[1;32mdef\u001b[0m \u001b[0mseparate_by_singer\u001b[0m\u001b[1;33m(\u001b[0m\u001b[0mself\u001b[0m\u001b[1;33m)\u001b[0m\u001b[1;33m->\u001b[0m\u001b[0mDict\u001b[0m\u001b[1;33m[\u001b[0m\u001b[0mstr\u001b[0m\u001b[1;33m,\u001b[0m\u001b[0mAny\u001b[0m\u001b[1;33m]\u001b[0m\u001b[1;33m:\u001b[0m\u001b[1;33m\u001b[0m\u001b[1;33m\u001b[0m\u001b[0m\n",
      "\u001b[1;32mE:\\Python39\\lib\\vogen\\synth\\__init__.py\u001b[0m in \u001b[0;36mplay\u001b[1;34m(file)\u001b[0m\n\u001b[0;32m    118\u001b[0m     \u001b[0m从工程对象合成音频并播放\u001b[0m\u001b[1;33m\u001b[0m\u001b[1;33m\u001b[0m\u001b[0m\n\u001b[0;32m    119\u001b[0m     \"\"\"\n\u001b[1;32m--> 120\u001b[1;33m     \u001b[0ma\u001b[0m\u001b[1;33m=\u001b[0m\u001b[0msynth\u001b[0m\u001b[1;33m(\u001b[0m\u001b[0mfile\u001b[0m\u001b[1;33m)\u001b[0m\u001b[1;33m\u001b[0m\u001b[1;33m\u001b[0m\u001b[0m\n\u001b[0m\u001b[0;32m    121\u001b[0m     \u001b[1;32mif\u001b[0m\u001b[1;33m(\u001b[0m\u001b[0mis_jupyter_notebook\u001b[0m\u001b[1;33m(\u001b[0m\u001b[1;33m)\u001b[0m\u001b[1;33m)\u001b[0m\u001b[1;33m:\u001b[0m\u001b[1;33m\u001b[0m\u001b[1;33m\u001b[0m\u001b[0m\n\u001b[0;32m    122\u001b[0m         \u001b[1;32mfrom\u001b[0m \u001b[0mIPython\u001b[0m\u001b[1;33m.\u001b[0m\u001b[0mdisplay\u001b[0m \u001b[1;32mimport\u001b[0m \u001b[0mAudio\u001b[0m\u001b[1;33m\u001b[0m\u001b[1;33m\u001b[0m\u001b[0m\n",
      "\u001b[1;32mE:\\Python39\\lib\\vogen\\synth\\__init__.py\u001b[0m in \u001b[0;36msynth\u001b[1;34m(file)\u001b[0m\n\u001b[0;32m     65\u001b[0m         \u001b[1;31m#print(\"\\r正在合成乐句{}/{}\".format(i+1,nutt)+\"#\"*int(20*i/nutt)+\"-\"*(20-int(20*i/nutt)))\u001b[0m\u001b[1;33m\u001b[0m\u001b[1;33m\u001b[0m\u001b[0m\n\u001b[0;32m     66\u001b[0m         \u001b[1;31m#合成\u001b[0m\u001b[1;33m\u001b[0m\u001b[1;33m\u001b[0m\u001b[0m\n\u001b[1;32m---> 67\u001b[1;33m         \u001b[0muttwave\u001b[0m\u001b[1;33m=\u001b[0m\u001b[0msynthutt\u001b[0m\u001b[1;33m(\u001b[0m\u001b[0mutt\u001b[0m\u001b[1;33m,\u001b[0m\u001b[0mtempo\u001b[0m\u001b[1;33m)\u001b[0m\u001b[1;33m\u001b[0m\u001b[1;33m\u001b[0m\u001b[0m\n\u001b[0m\u001b[0;32m     68\u001b[0m         \u001b[1;31m#将合成出的音频加到音轨上\u001b[0m\u001b[1;33m\u001b[0m\u001b[1;33m\u001b[0m\u001b[0m\n\u001b[0;32m     69\u001b[0m         \u001b[0muttoffset\u001b[0m\u001b[1;33m=\u001b[0m\u001b[0mint\u001b[0m\u001b[1;33m(\u001b[0m\u001b[0mparams\u001b[0m\u001b[1;33m.\u001b[0m\u001b[0mfs\u001b[0m\u001b[1;33m*\u001b[0m\u001b[1;33m(\u001b[0m\u001b[0mutt\u001b[0m\u001b[1;33m.\u001b[0m\u001b[0mnotes\u001b[0m\u001b[1;33m[\u001b[0m\u001b[1;36m0\u001b[0m\u001b[1;33m]\u001b[0m\u001b[1;33m.\u001b[0m\u001b[0mon\u001b[0m\u001b[1;33m/\u001b[0m\u001b[1;33m(\u001b[0m\u001b[1;36m8\u001b[0m\u001b[1;33m*\u001b[0m\u001b[0mtempo\u001b[0m\u001b[1;33m)\u001b[0m\u001b[1;33m-\u001b[0m\u001b[1;36m0.5\u001b[0m\u001b[1;33m)\u001b[0m\u001b[1;33m)\u001b[0m\u001b[1;33m\u001b[0m\u001b[1;33m\u001b[0m\u001b[0m\n",
      "\u001b[1;32mE:\\Python39\\lib\\vogen\\synth\\__init__.py\u001b[0m in \u001b[0;36msynthutt\u001b[1;34m(utt, tempo)\u001b[0m\n\u001b[0;32m     39\u001b[0m     \u001b[0mtchars\u001b[0m\u001b[1;33m.\u001b[0m\u001b[0mappend\u001b[0m\u001b[1;33m(\u001b[0m\u001b[0mtimetable\u001b[0m\u001b[1;33m.\u001b[0m\u001b[0mTChar\u001b[0m\u001b[1;33m(\u001b[0m\u001b[1;33m)\u001b[0m\u001b[1;33m)\u001b[0m\u001b[1;33m\u001b[0m\u001b[1;33m\u001b[0m\u001b[0m\n\u001b[0;32m     40\u001b[0m     \u001b[0mtchars\u001b[0m\u001b[1;33m=\u001b[0m\u001b[0mprosody\u001b[0m\u001b[1;33m.\u001b[0m\u001b[0mrun\u001b[0m\u001b[1;33m(\u001b[0m\u001b[0mutt\u001b[0m\u001b[1;33m.\u001b[0m\u001b[0mromScheme\u001b[0m\u001b[1;33m,\u001b[0m\u001b[0mtchars\u001b[0m\u001b[1;33m[\u001b[0m\u001b[1;33m-\u001b[0m\u001b[1;36m2\u001b[0m\u001b[1;33m]\u001b[0m\u001b[1;33m.\u001b[0m\u001b[0mnotes\u001b[0m\u001b[1;33m[\u001b[0m\u001b[1;33m-\u001b[0m\u001b[1;36m1\u001b[0m\u001b[1;33m]\u001b[0m\u001b[1;33m.\u001b[0m\u001b[0moff\u001b[0m\u001b[1;33m+\u001b[0m\u001b[1;36m50\u001b[0m\u001b[1;33m,\u001b[0m\u001b[0mtchars\u001b[0m\u001b[1;33m)\u001b[0m\u001b[1;33m\u001b[0m\u001b[1;33m\u001b[0m\u001b[0m\n\u001b[1;32m---> 41\u001b[1;33m     \u001b[0mf0array\u001b[0m\u001b[1;33m=\u001b[0m\u001b[0mf0\u001b[0m\u001b[1;33m.\u001b[0m\u001b[0mrun\u001b[0m\u001b[1;33m(\u001b[0m\u001b[0mutt\u001b[0m\u001b[1;33m.\u001b[0m\u001b[0mromScheme\u001b[0m\u001b[1;33m,\u001b[0m\u001b[0mtchars\u001b[0m\u001b[1;33m)\u001b[0m\u001b[1;31m#运行基频模型\u001b[0m\u001b[1;33m\u001b[0m\u001b[1;33m\u001b[0m\u001b[0m\n\u001b[0m\u001b[0;32m     42\u001b[0m     \u001b[0mmgc\u001b[0m\u001b[1;33m,\u001b[0m\u001b[0mbap\u001b[0m\u001b[1;33m=\u001b[0m\u001b[0macoustics\u001b[0m\u001b[1;33m.\u001b[0m\u001b[0mrun\u001b[0m\u001b[1;33m(\u001b[0m\u001b[0mutt\u001b[0m\u001b[1;33m.\u001b[0m\u001b[0mromScheme\u001b[0m\u001b[1;33m,\u001b[0m\u001b[0mutt\u001b[0m\u001b[1;33m.\u001b[0m\u001b[0msingerId\u001b[0m\u001b[1;33m,\u001b[0m\u001b[0mf0array\u001b[0m\u001b[1;33m,\u001b[0m\u001b[0mtchars\u001b[0m\u001b[1;33m)\u001b[0m\u001b[1;31m#运行合成模型\u001b[0m\u001b[1;33m\u001b[0m\u001b[1;33m\u001b[0m\u001b[0m\n\u001b[0;32m     43\u001b[0m     \u001b[0msp\u001b[0m\u001b[1;33m=\u001b[0m\u001b[0mpyworld\u001b[0m\u001b[1;33m.\u001b[0m\u001b[0mdecode_spectral_envelope\u001b[0m\u001b[1;33m(\u001b[0m\u001b[0mmgc\u001b[0m\u001b[1;33m[\u001b[0m\u001b[1;36m0\u001b[0m\u001b[1;33m]\u001b[0m\u001b[1;33m.\u001b[0m\u001b[0mastype\u001b[0m\u001b[1;33m(\u001b[0m\u001b[0mnumpy\u001b[0m\u001b[1;33m.\u001b[0m\u001b[0mfloat64\u001b[0m\u001b[1;33m)\u001b[0m\u001b[1;33m,\u001b[0m\u001b[0mparams\u001b[0m\u001b[1;33m.\u001b[0m\u001b[0mfs\u001b[0m\u001b[1;33m,\u001b[0m\u001b[0mparams\u001b[0m\u001b[1;33m.\u001b[0m\u001b[0mworldFftSize\u001b[0m\u001b[1;33m)\u001b[0m\u001b[1;33m\u001b[0m\u001b[1;33m\u001b[0m\u001b[0m\n",
      "\u001b[1;32mE:\\Python39\\lib\\vogen\\synth\\f0.py\u001b[0m in \u001b[0;36mrun\u001b[1;34m(romScheme, chars)\u001b[0m\n\u001b[0;32m     45\u001b[0m     \u001b[1;31m#运行模型\u001b[0m\u001b[1;33m\u001b[0m\u001b[1;33m\u001b[0m\u001b[0m\n\u001b[0;32m     46\u001b[0m     \u001b[0mmodel\u001b[0m\u001b[1;33m=\u001b[0m\u001b[0mmodels\u001b[0m\u001b[1;33m[\u001b[0m\u001b[0mromScheme\u001b[0m\u001b[1;33m]\u001b[0m\u001b[1;33m\u001b[0m\u001b[1;33m\u001b[0m\u001b[0m\n\u001b[1;32m---> 47\u001b[1;33m     \u001b[0mf0\u001b[0m\u001b[1;33m=\u001b[0m\u001b[0mmodel\u001b[0m\u001b[1;33m.\u001b[0m\u001b[0mrun\u001b[0m\u001b[1;33m(\u001b[0m\u001b[1;33m[\u001b[0m\u001b[0mmodel\u001b[0m\u001b[1;33m.\u001b[0m\u001b[0mget_outputs\u001b[0m\u001b[1;33m(\u001b[0m\u001b[1;33m)\u001b[0m\u001b[1;33m[\u001b[0m\u001b[1;36m0\u001b[0m\u001b[1;33m]\u001b[0m\u001b[1;33m.\u001b[0m\u001b[0mname\u001b[0m\u001b[1;33m]\u001b[0m\u001b[1;33m,\u001b[0m\u001b[0mxs\u001b[0m\u001b[1;33m)\u001b[0m\u001b[1;33m[\u001b[0m\u001b[1;36m0\u001b[0m\u001b[1;33m]\u001b[0m\u001b[1;33m\u001b[0m\u001b[1;33m\u001b[0m\u001b[0m\n\u001b[0m\u001b[0;32m     48\u001b[0m     \u001b[1;32mreturn\u001b[0m \u001b[0mf0\u001b[0m\u001b[1;33m\u001b[0m\u001b[1;33m\u001b[0m\u001b[0m\n\u001b[0;32m     49\u001b[0m \u001b[1;33m\u001b[0m\u001b[0m\n",
      "\u001b[1;32mE:\\Python39\\lib\\site-packages\\onnxruntime\\capi\\onnxruntime_inference_collection.py\u001b[0m in \u001b[0;36mrun\u001b[1;34m(self, output_names, input_feed, run_options)\u001b[0m\n\u001b[0;32m    186\u001b[0m             \u001b[0moutput_names\u001b[0m \u001b[1;33m=\u001b[0m \u001b[1;33m[\u001b[0m\u001b[0moutput\u001b[0m\u001b[1;33m.\u001b[0m\u001b[0mname\u001b[0m \u001b[1;32mfor\u001b[0m \u001b[0moutput\u001b[0m \u001b[1;32min\u001b[0m \u001b[0mself\u001b[0m\u001b[1;33m.\u001b[0m\u001b[0m_outputs_meta\u001b[0m\u001b[1;33m]\u001b[0m\u001b[1;33m\u001b[0m\u001b[1;33m\u001b[0m\u001b[0m\n\u001b[0;32m    187\u001b[0m         \u001b[1;32mtry\u001b[0m\u001b[1;33m:\u001b[0m\u001b[1;33m\u001b[0m\u001b[1;33m\u001b[0m\u001b[0m\n\u001b[1;32m--> 188\u001b[1;33m             \u001b[1;32mreturn\u001b[0m \u001b[0mself\u001b[0m\u001b[1;33m.\u001b[0m\u001b[0m_sess\u001b[0m\u001b[1;33m.\u001b[0m\u001b[0mrun\u001b[0m\u001b[1;33m(\u001b[0m\u001b[0moutput_names\u001b[0m\u001b[1;33m,\u001b[0m \u001b[0minput_feed\u001b[0m\u001b[1;33m,\u001b[0m \u001b[0mrun_options\u001b[0m\u001b[1;33m)\u001b[0m\u001b[1;33m\u001b[0m\u001b[1;33m\u001b[0m\u001b[0m\n\u001b[0m\u001b[0;32m    189\u001b[0m         \u001b[1;32mexcept\u001b[0m \u001b[0mC\u001b[0m\u001b[1;33m.\u001b[0m\u001b[0mEPFail\u001b[0m \u001b[1;32mas\u001b[0m \u001b[0merr\u001b[0m\u001b[1;33m:\u001b[0m\u001b[1;33m\u001b[0m\u001b[1;33m\u001b[0m\u001b[0m\n\u001b[0;32m    190\u001b[0m             \u001b[1;32mif\u001b[0m \u001b[0mself\u001b[0m\u001b[1;33m.\u001b[0m\u001b[0m_enable_fallback\u001b[0m\u001b[1;33m:\u001b[0m\u001b[1;33m\u001b[0m\u001b[1;33m\u001b[0m\u001b[0m\n",
      "\u001b[1;31mRuntimeException\u001b[0m: [ONNXRuntimeError] : 6 : RUNTIME_EXCEPTION : Non-zero status code returned while running Mul node. Name:'' Status Message: D:\\a\\_work\\1\\s\\onnxruntime\\core/providers/cpu/math/element_wise_ops.h:497 onnxruntime::BroadcastIterator::Init axis == 1 || axis == largest was false. Attempting to broadcast an axis by a dimension other than 1. 550 by 600\n"
     ]
    }
   ],
   "metadata": {}
  },
  {
   "cell_type": "code",
   "execution_count": 4,
   "source": [
    "#排序\r\n",
    "myfile.sort()\r\n",
    "myfile"
   ],
   "outputs": [
    {
     "output_type": "execute_result",
     "data": {
      "text/plain": [
       "VogFile 4/4 120.0\n",
       " VogUtt Gloria man \n",
       "  VogNote 60 [a] 480 480\n",
       "  VogNote 60 [a] 960 480\n",
       "  VogNote 67 [a] 1440 480\n",
       "  VogNote 67 [a] 1920 480\n",
       "  VogNote 69 [a] 2400 480\n",
       "  VogNote 69 [a] 2880 480\n",
       "  VogNote 67 [a] 3360 480\n",
       " VogUtt Gloria man \n",
       "  VogNote 65 [a] 4320 480\n",
       "  VogNote 65 [a] 4800 480\n",
       "  VogNote 64 [a] 5280 480\n",
       "  VogNote 64 [a] 5760 480\n",
       "  VogNote 62 [a] 6240 480\n",
       "  VogNote 62 [a] 6720 480\n",
       "  VogNote 60 [a] 7200 480"
      ]
     },
     "metadata": {},
     "execution_count": 4
    }
   ],
   "metadata": {}
  },
  {
   "cell_type": "code",
   "execution_count": 5,
   "source": [
    "myfile.play()"
   ],
   "outputs": [
    {
     "output_type": "stream",
     "name": "stderr",
     "text": [
      "100%|██████████| 2/2 [00:01<00:00,  1.78it/s]\n"
     ]
    }
   ],
   "metadata": {}
  },
  {
   "cell_type": "markdown",
   "source": [
    "## 歌词相关操作\r\n",
    "### 灌词\r\n",
    "使用`VogFile.setlyric`灌入歌词并自动获取拼音。"
   ],
   "metadata": {}
  },
  {
   "cell_type": "code",
   "execution_count": 6,
   "source": [
    "#setlyric支持字符串列表输入。列表中的每个字符串分配给一个音符\r\n",
    "myfile.setlyric(['yi','shan','yi','shan','liang','jing','jing','man','tian','dou', 'shi','xiao', 'xing','xing'])\r\n",
    "myfile"
   ],
   "outputs": [
    {
     "output_type": "execute_result",
     "data": {
      "text/plain": [
       "VogFile 4/4 120.0\n",
       " VogUtt Gloria man \n",
       "  VogNote 60 yi[yi] 480 480\n",
       "  VogNote 60 shan[shan] 960 480\n",
       "  VogNote 67 yi[yi] 1440 480\n",
       "  VogNote 67 shan[shan] 1920 480\n",
       "  VogNote 69 liang[liang] 2400 480\n",
       "  VogNote 69 jing[jing] 2880 480\n",
       "  VogNote 67 jing[jing] 3360 480\n",
       " VogUtt Gloria man \n",
       "  VogNote 65 man[man] 4320 480\n",
       "  VogNote 65 tian[tian] 4800 480\n",
       "  VogNote 64 dou[dou] 5280 480\n",
       "  VogNote 64 shi[shi] 5760 480\n",
       "  VogNote 62 xiao[xiao] 6240 480\n",
       "  VogNote 62 xing[xing] 6720 480\n",
       "  VogNote 60 xing[xing] 7200 480"
      ]
     },
     "metadata": {},
     "execution_count": 6
    }
   ],
   "metadata": {}
  },
  {
   "cell_type": "code",
   "execution_count": 7,
   "source": [
    "#setlyric也支持字符串输入。字符串中的每个字符分配给一个音符\r\n",
    "myfile.setlyric(\"一闪一闪亮晶晶满天都是小星星\")"
   ],
   "outputs": [
    {
     "output_type": "execute_result",
     "data": {
      "text/plain": [
       "VogFile 4/4 120.0\n",
       " VogUtt Gloria man \n",
       "  VogNote 60 一[yi] 480 480\n",
       "  VogNote 60 闪[shan] 960 480\n",
       "  VogNote 67 一[yi] 1440 480\n",
       "  VogNote 67 闪[shan] 1920 480\n",
       "  VogNote 69 亮[liang] 2400 480\n",
       "  VogNote 69 晶[jing] 2880 480\n",
       "  VogNote 67 晶[jing] 3360 480\n",
       " VogUtt Gloria man \n",
       "  VogNote 65 满[man] 4320 480\n",
       "  VogNote 65 天[tian] 4800 480\n",
       "  VogNote 64 都[dou] 5280 480\n",
       "  VogNote 64 是[shi] 5760 480\n",
       "  VogNote 62 小[xiao] 6240 480\n",
       "  VogNote 62 星[xing] 6720 480\n",
       "  VogNote 60 星[xing] 7200 480"
      ]
     },
     "metadata": {},
     "execution_count": 7
    }
   ],
   "metadata": {}
  },
  {
   "cell_type": "markdown",
   "source": [
    "## 批量操作\r\n",
    "### 移调\r\n",
    "使用`VogFile.transpose`移调"
   ],
   "metadata": {}
  },
  {
   "cell_type": "code",
   "execution_count": 8,
   "source": [
    "## 向下移动4个半音\r\n",
    "myfile.transpose(-4)\r\n",
    "myfile"
   ],
   "outputs": [
    {
     "output_type": "execute_result",
     "data": {
      "text/plain": [
       "VogFile 4/4 120.0\n",
       " VogUtt Gloria man \n",
       "  VogNote 56 一[yi] 480 480\n",
       "  VogNote 56 闪[shan] 960 480\n",
       "  VogNote 63 一[yi] 1440 480\n",
       "  VogNote 63 闪[shan] 1920 480\n",
       "  VogNote 65 亮[liang] 2400 480\n",
       "  VogNote 65 晶[jing] 2880 480\n",
       "  VogNote 63 晶[jing] 3360 480\n",
       " VogUtt Gloria man \n",
       "  VogNote 61 满[man] 4320 480\n",
       "  VogNote 61 天[tian] 4800 480\n",
       "  VogNote 60 都[dou] 5280 480\n",
       "  VogNote 60 是[shi] 5760 480\n",
       "  VogNote 58 小[xiao] 6240 480\n",
       "  VogNote 58 星[xing] 6720 480\n",
       "  VogNote 56 星[xing] 7200 480"
      ]
     },
     "metadata": {},
     "execution_count": 8
    }
   ],
   "metadata": {}
  },
  {
   "cell_type": "markdown",
   "source": [
    "### 设置歌手与语种\r\n",
    "使用`setSinger`设置歌手"
   ],
   "metadata": {}
  },
  {
   "cell_type": "code",
   "execution_count": 9,
   "source": [
    "myfile.setSinger(\"Doaz\")"
   ],
   "outputs": [
    {
     "output_type": "execute_result",
     "data": {
      "text/plain": [
       "VogFile 4/4 120.0\n",
       " VogUtt Doaz man \n",
       "  VogNote 56 一[yi] 480 480\n",
       "  VogNote 56 闪[shan] 960 480\n",
       "  VogNote 63 一[yi] 1440 480\n",
       "  VogNote 63 闪[shan] 1920 480\n",
       "  VogNote 65 亮[liang] 2400 480\n",
       "  VogNote 65 晶[jing] 2880 480\n",
       "  VogNote 63 晶[jing] 3360 480\n",
       " VogUtt Doaz man \n",
       "  VogNote 61 满[man] 4320 480\n",
       "  VogNote 61 天[tian] 4800 480\n",
       "  VogNote 60 都[dou] 5280 480\n",
       "  VogNote 60 是[shi] 5760 480\n",
       "  VogNote 58 小[xiao] 6240 480\n",
       "  VogNote 58 星[xing] 6720 480\n",
       "  VogNote 56 星[xing] 7200 480"
      ]
     },
     "metadata": {},
     "execution_count": 9
    }
   ],
   "metadata": {}
  },
  {
   "cell_type": "markdown",
   "source": [
    "使用`setRomScheme`设置语种并重新获取拼音。"
   ],
   "metadata": {}
  },
  {
   "cell_type": "code",
   "execution_count": 10,
   "source": [
    "myfile.setRomScheme(\"yue\")"
   ],
   "outputs": [
    {
     "output_type": "execute_result",
     "data": {
      "text/plain": [
       "VogFile 4/4 120.0\n",
       " VogUtt Doaz yue \n",
       "  VogNote 56 一[jat] 480 480\n",
       "  VogNote 56 闪[sim] 960 480\n",
       "  VogNote 63 一[jat] 1440 480\n",
       "  VogNote 63 闪[sim] 1920 480\n",
       "  VogNote 65 亮[loeng] 2400 480\n",
       "  VogNote 65 晶[zing] 2880 480\n",
       "  VogNote 63 晶[zing] 3360 480\n",
       " VogUtt Doaz yue \n",
       "  VogNote 61 满[mun] 4320 480\n",
       "  VogNote 61 天[tin] 4800 480\n",
       "  VogNote 60 都[dou] 5280 480\n",
       "  VogNote 60 是[si] 5760 480\n",
       "  VogNote 58 小[siu] 6240 480\n",
       "  VogNote 58 星[sing] 6720 480\n",
       "  VogNote 56 星[sing] 7200 480"
      ]
     },
     "metadata": {},
     "execution_count": 10
    }
   ],
   "metadata": {}
  },
  {
   "cell_type": "markdown",
   "source": [
    "## 音符迭代器\r\n",
    "如果需要对工程中的所有音符实施操作，可以使用`VogFile.notes()`迭代器"
   ],
   "metadata": {}
  },
  {
   "cell_type": "code",
   "execution_count": 11,
   "source": [
    "#保持tempo不变，将工程加速一倍\r\n",
    "for note in myfile.notes():\r\n",
    "    note.on//=2\r\n",
    "    note.dur//=2\r\n",
    "myfile"
   ],
   "outputs": [
    {
     "output_type": "execute_result",
     "data": {
      "text/plain": [
       "VogFile 4/4 120.0\n",
       " VogUtt Doaz yue \n",
       "  VogNote 56 一[jat] 240 240\n",
       "  VogNote 56 闪[sim] 480 240\n",
       "  VogNote 63 一[jat] 720 240\n",
       "  VogNote 63 闪[sim] 960 240\n",
       "  VogNote 65 亮[loeng] 1200 240\n",
       "  VogNote 65 晶[zing] 1440 240\n",
       "  VogNote 63 晶[zing] 1680 240\n",
       " VogUtt Doaz yue \n",
       "  VogNote 61 满[mun] 2160 240\n",
       "  VogNote 61 天[tin] 2400 240\n",
       "  VogNote 60 都[dou] 2640 240\n",
       "  VogNote 60 是[si] 2880 240\n",
       "  VogNote 58 小[siu] 3120 240\n",
       "  VogNote 58 星[sing] 3360 240\n",
       "  VogNote 56 星[sing] 3600 240"
      ]
     },
     "metadata": {},
     "execution_count": 11
    }
   ],
   "metadata": {}
  }
 ],
 "metadata": {
  "orig_nbformat": 4,
  "language_info": {
   "name": "python",
   "version": "3.9.7",
   "mimetype": "text/x-python",
   "codemirror_mode": {
    "name": "ipython",
    "version": 3
   },
   "pygments_lexer": "ipython3",
   "nbconvert_exporter": "python",
   "file_extension": ".py"
  },
  "kernelspec": {
   "name": "python3",
   "display_name": "Python 3.9.7 64-bit"
  },
  "interpreter": {
   "hash": "9e6fe232ec1802e04813a62eadbd4a033db6fcefdd78d84705bbb38e45fcef4a"
  }
 },
 "nbformat": 4,
 "nbformat_minor": 2
}